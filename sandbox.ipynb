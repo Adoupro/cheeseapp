{
 "cells": [
  {
   "cell_type": "code",
   "execution_count": 1,
   "metadata": {},
   "outputs": [],
   "source": [
    "import pandas as pd\n",
    "import sqlite3\n",
    "import os\n",
    "from script.query import READ_ODS_CHEESE\n",
    "from script.etl import CheeseScrapping\n",
    "from script.computation import CheeseMeasure"
   ]
  },
  {
   "cell_type": "code",
   "execution_count": 2,
   "metadata": {},
   "outputs": [],
   "source": [
    "URL = \"https://www.laboitedufromager.com/liste-des-fromages-par-ordre-alphabetique/\"\n",
    "ROOT = os.getcwd()\n",
    "DB_PATH = f\"{ROOT}/DATA/ODS.db\"\n",
    "CHEESE_ODS_TABLE = 'CHEESE'"
   ]
  },
  {
   "cell_type": "code",
   "execution_count": 3,
   "metadata": {},
   "outputs": [
    {
     "name": "stderr",
     "output_type": "stream",
     "text": [
      "c:\\Users\\adoup\\OneDrive\\Documents\\PROJECT\\APPRENDRE_PYTHON\\content\\PHARMA PILOT\\EDUCATION\\CHEESE_APP\\script\\etl.py:15: GuessedAtParserWarning: No parser was explicitly specified, so I'm using the best available HTML parser for this system (\"html.parser\"). This usually isn't a problem, but if you run this code on another system, or in a different virtual environment, it may use a different parser and behave differently.\n",
      "\n",
      "The code that caused this warning is on line 15 of the file c:\\Users\\adoup\\OneDrive\\Documents\\PROJECT\\APPRENDRE_PYTHON\\content\\PHARMA PILOT\\EDUCATION\\CHEESE_APP\\script\\etl.py. To get rid of this warning, pass the additional argument 'features=\"html.parser\"' to the BeautifulSoup constructor.\n",
      "\n",
      "  return BeautifulSoup(data)\n"
     ]
    }
   ],
   "source": [
    "\n",
    "cheese_scrapping = CheeseScrapping(URL)\n",
    "cheese_extraction = cheese_scrapping.extract()\n",
    "cheese_transformation = cheese_scrapping.transform(cheese_extraction)"
   ]
  },
  {
   "cell_type": "code",
   "execution_count": 4,
   "metadata": {},
   "outputs": [
    {
     "data": {
      "text/html": [
       "<div>\n",
       "<style scoped>\n",
       "    .dataframe tbody tr th:only-of-type {\n",
       "        vertical-align: middle;\n",
       "    }\n",
       "\n",
       "    .dataframe tbody tr th {\n",
       "        vertical-align: top;\n",
       "    }\n",
       "\n",
       "    .dataframe thead th {\n",
       "        text-align: right;\n",
       "    }\n",
       "</style>\n",
       "<table border=\"1\" class=\"dataframe\">\n",
       "  <thead>\n",
       "    <tr style=\"text-align: right;\">\n",
       "      <th></th>\n",
       "      <th>cheeses</th>\n",
       "      <th>families</th>\n",
       "      <th>doughs</th>\n",
       "      <th>urls</th>\n",
       "    </tr>\n",
       "  </thead>\n",
       "  <tbody>\n",
       "    <tr>\n",
       "      <th>0</th>\n",
       "      <td>Abbaye de la Pierre-qui-Vire</td>\n",
       "      <td>Vache</td>\n",
       "      <td>Molle à croûte lavée</td>\n",
       "      <td>None</td>\n",
       "    </tr>\n",
       "    <tr>\n",
       "      <th>1</th>\n",
       "      <td>Abondance</td>\n",
       "      <td>Vache</td>\n",
       "      <td>Pressée cuite</td>\n",
       "      <td>/fromage/abondance/</td>\n",
       "    </tr>\n",
       "    <tr>\n",
       "      <th>2</th>\n",
       "      <td>Angors</td>\n",
       "      <td>Chèvre</td>\n",
       "      <td>Molle à croûte naturelle</td>\n",
       "      <td>/fromage/angors/</td>\n",
       "    </tr>\n",
       "    <tr>\n",
       "      <th>3</th>\n",
       "      <td>Anneau de Saint Clément</td>\n",
       "      <td>Chèvre</td>\n",
       "      <td>Molle à croûte naturelle</td>\n",
       "      <td>/fromage/anneau-de-saint-clement/</td>\n",
       "    </tr>\n",
       "    <tr>\n",
       "      <th>4</th>\n",
       "      <td>Anneau du Vic-Bilh</td>\n",
       "      <td>Chèvre</td>\n",
       "      <td>Molle à croûte naturelle</td>\n",
       "      <td>/fromage/anneau-vic-bilh/</td>\n",
       "    </tr>\n",
       "    <tr>\n",
       "      <th>...</th>\n",
       "      <td>...</td>\n",
       "      <td>...</td>\n",
       "      <td>...</td>\n",
       "      <td>...</td>\n",
       "    </tr>\n",
       "    <tr>\n",
       "      <th>329</th>\n",
       "      <td>Venise Verte</td>\n",
       "      <td>Vache</td>\n",
       "      <td>Molle à croûte lavée</td>\n",
       "      <td>/fromage/venise-verte/</td>\n",
       "    </tr>\n",
       "    <tr>\n",
       "      <th>330</th>\n",
       "      <td>Vercorais</td>\n",
       "      <td>Vache</td>\n",
       "      <td>Pressée cuite</td>\n",
       "      <td>/fromage/vercorais/</td>\n",
       "    </tr>\n",
       "    <tr>\n",
       "      <th>331</th>\n",
       "      <td>Vieux Lille</td>\n",
       "      <td>Vache</td>\n",
       "      <td>Molle à croûte lavée</td>\n",
       "      <td>/fromage/le-vieux-lille/</td>\n",
       "    </tr>\n",
       "    <tr>\n",
       "      <th>332</th>\n",
       "      <td>Villageois blanc</td>\n",
       "      <td>Chèvre</td>\n",
       "      <td>Molle à croûte naturelle</td>\n",
       "      <td>/fromage/villageois-blanc/</td>\n",
       "    </tr>\n",
       "    <tr>\n",
       "      <th>333</th>\n",
       "      <td>Vully rouge Suisse</td>\n",
       "      <td>Vache</td>\n",
       "      <td>Pressée cuite</td>\n",
       "      <td>/fromage/vully-rouge-suisse/</td>\n",
       "    </tr>\n",
       "  </tbody>\n",
       "</table>\n",
       "<p>334 rows × 4 columns</p>\n",
       "</div>"
      ],
      "text/plain": [
       "                          cheeses families                    doughs  \\\n",
       "0    Abbaye de la Pierre-qui-Vire    Vache      Molle à croûte lavée   \n",
       "1                       Abondance    Vache             Pressée cuite   \n",
       "2                          Angors   Chèvre  Molle à croûte naturelle   \n",
       "3         Anneau de Saint Clément   Chèvre  Molle à croûte naturelle   \n",
       "4              Anneau du Vic-Bilh   Chèvre  Molle à croûte naturelle   \n",
       "..                            ...      ...                       ...   \n",
       "329                  Venise Verte    Vache      Molle à croûte lavée   \n",
       "330                     Vercorais    Vache             Pressée cuite   \n",
       "331                   Vieux Lille    Vache      Molle à croûte lavée   \n",
       "332              Villageois blanc   Chèvre  Molle à croûte naturelle   \n",
       "333            Vully rouge Suisse    Vache             Pressée cuite   \n",
       "\n",
       "                                  urls  \n",
       "0                                 None  \n",
       "1                  /fromage/abondance/  \n",
       "2                     /fromage/angors/  \n",
       "3    /fromage/anneau-de-saint-clement/  \n",
       "4            /fromage/anneau-vic-bilh/  \n",
       "..                                 ...  \n",
       "329             /fromage/venise-verte/  \n",
       "330                /fromage/vercorais/  \n",
       "331           /fromage/le-vieux-lille/  \n",
       "332         /fromage/villageois-blanc/  \n",
       "333       /fromage/vully-rouge-suisse/  \n",
       "\n",
       "[334 rows x 4 columns]"
      ]
     },
     "execution_count": 4,
     "metadata": {},
     "output_type": "execute_result"
    }
   ],
   "source": [
    "cheese_transformation"
   ]
  },
  {
   "cell_type": "code",
   "execution_count": 11,
   "metadata": {},
   "outputs": [],
   "source": [
    "def cheese_scrapping():\n",
    "\n",
    "    scrapping = CheeseScrapping(URL)\n",
    "    extraction = scrapping.extract()\n",
    "    transformation = scrapping.transform(extraction)\n",
    "    final_dataframe = scrapping.load(DB_PATH, CHEESE_ODS_TABLE, transformation)\n",
    "    \n",
    "    return final_dataframe"
   ]
  },
  {
   "cell_type": "code",
   "execution_count": 12,
   "metadata": {},
   "outputs": [
    {
     "ename": "TypeError",
     "evalue": "CheeseScrapping.load() missing 2 required positional arguments: 'table' and 'dataframe'",
     "output_type": "error",
     "traceback": [
      "\u001b[1;31m---------------------------------------------------------------------------\u001b[0m",
      "\u001b[1;31mTypeError\u001b[0m                                 Traceback (most recent call last)",
      "Cell \u001b[1;32mIn[12], line 9\u001b[0m\n\u001b[0;32m      7\u001b[0m extraction \u001b[38;5;241m=\u001b[39m scrapping\u001b[38;5;241m.\u001b[39mextract()\n\u001b[0;32m      8\u001b[0m transformation \u001b[38;5;241m=\u001b[39m scrapping\u001b[38;5;241m.\u001b[39mtransform(extraction)\n\u001b[1;32m----> 9\u001b[0m final_dataframe \u001b[38;5;241m=\u001b[39m \u001b[43mscrapping\u001b[49m\u001b[38;5;241;43m.\u001b[39;49m\u001b[43mload\u001b[49m\u001b[43m(\u001b[49m\u001b[43mtransformation\u001b[49m\u001b[43m)\u001b[49m\n\u001b[0;32m     10\u001b[0m computation \u001b[38;5;241m=\u001b[39m CheeseMeasure(final_dataframe)\n\u001b[0;32m     11\u001b[0m last_refresh_date \u001b[38;5;241m=\u001b[39m final_dataframe[\u001b[38;5;124m'\u001b[39m\u001b[38;5;124mupdate_date\u001b[39m\u001b[38;5;124m'\u001b[39m]\u001b[38;5;241m.\u001b[39mmax()\n",
      "\u001b[1;31mTypeError\u001b[0m: CheeseScrapping.load() missing 2 required positional arguments: 'table' and 'dataframe'"
     ]
    }
   ],
   "source": [
    "import matplotlib as plt\n",
    "from tkinter import *\n",
    "from matplotlib.backends.backend_tkagg import FigureCanvasTkAgg\n",
    "from matplotlib.figure import Figure\n",
    "\n",
    "scrapping = CheeseScrapping(URL)\n",
    "extraction = scrapping.extract()\n",
    "transformation = scrapping.transform(extraction)\n",
    "final_dataframe = scrapping.load(transformation)\n",
    "computation = CheeseMeasure(final_dataframe)\n",
    "last_refresh_date = final_dataframe['update_date'].max()\n",
    "\n",
    "window = Tk()\n",
    "plt.use('TkAgg')\n",
    "fig = Figure(figsize=(6, 6))\n",
    "ax = fig.add_subplot(111)\n",
    "computation.countby_families(ax)\n",
    "\n",
    "refresh_label = Label(window, text=f\"Dernier rafraichissement : {last_refresh_date}\")\n",
    "refresh_label.pack()\n",
    "\n",
    "quality_label = Label(window, text=\"Qualité des données : \")\n",
    "quality_label.pack()\n",
    "\n",
    "refresh_button = Button(window, text='Actualiser les données', command=cheese_scrapping)\n",
    "refresh_button.pack()\n",
    "\n",
    "quality_button = Button(window, text='Exécution des tests', command=cheese_scrapping)\n",
    "quality_button.pack()\n",
    "\n",
    "canvas = FigureCanvasTkAgg(fig, master=window)\n",
    "canvas.get_tk_widget().pack()\n",
    "canvas.draw()\n",
    "\n",
    "window.mainloop()"
   ]
  },
  {
   "cell_type": "code",
   "execution_count": 13,
   "metadata": {},
   "outputs": [],
   "source": []
  },
  {
   "cell_type": "code",
   "execution_count": 12,
   "metadata": {},
   "outputs": [],
   "source": [
    "from urllib.request import urlopen\n",
    "from bs4 import BeautifulSoup\n",
    "\n",
    "\n",
    "data = urlopen(\"https://www.laboitedufromager.com/fromage/manchego/\")\n",
    "data = data.read()\n",
    "\n",
    "BeautifulSoup(data).find('a', {\"data-fresco-group\":\"product-gallery\"})"
   ]
  }
 ],
 "metadata": {
  "kernelspec": {
   "display_name": "Python 3",
   "language": "python",
   "name": "python3"
  },
  "language_info": {
   "codemirror_mode": {
    "name": "ipython",
    "version": 3
   },
   "file_extension": ".py",
   "mimetype": "text/x-python",
   "name": "python",
   "nbconvert_exporter": "python",
   "pygments_lexer": "ipython3",
   "version": "3.12.1"
  }
 },
 "nbformat": 4,
 "nbformat_minor": 2
}
